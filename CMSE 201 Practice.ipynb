{
 "cells": [
  {
   "cell_type": "markdown",
   "id": "750afb75",
   "metadata": {},
   "source": [
    "# Here is a Text Cell\n",
    "\n",
    "### I am testing out Jupyter Notebook\n",
    "\n"
   ]
  },
  {
   "cell_type": "markdown",
   "id": "984046a4",
   "metadata": {},
   "source": [
    "## Text Size\n",
    "\n",
    "#### \"#\" is used to indicate the text size\n",
    "#### The more \"#\", the smaller the text size\n"
   ]
  },
  {
   "cell_type": "markdown",
   "id": "44a78bf1",
   "metadata": {},
   "source": [
    "## Bolding, Italicized, etc.\n",
    "\n",
    "#### \"*\" is used to indicate if something is bold, italicized, or both\n",
    "#### *here is an example*"
   ]
  },
  {
   "cell_type": "markdown",
   "id": "68406c1a",
   "metadata": {},
   "source": [
    "## More Text Things\n",
    "\n",
    " You can create lists too! Use \"/*\" WITH A SPACE after it and without the /\n",
    "\n",
    "*  List 1\n",
    "    *  List 2\n",
    "    \n",
    " We can also get fancy and 'highlight' code using this guy /'\n",
    "\n",
    " Lastly, we can create quote block to highlight text using /<\n",
    " >Here is my fancy quote box\n",
    " \n",
    " \n",
    " To avoid obnoxious crazy lines, you can create new lines by adding two spaces after one. \n",
    " This is still on the same line even though it is technically below  \n",
    " but this is a new line because I put two space after the line above then pressed enter\n"
   ]
  },
  {
   "cell_type": "code",
   "execution_count": null,
   "id": "a5972a99",
   "metadata": {},
   "outputs": [],
   "source": []
  },
  {
   "cell_type": "markdown",
   "id": "b01c7478",
   "metadata": {},
   "source": [
    "## To create new cells \n",
    "\n",
    "You can use the \"+\" arrow at the top and indicate if you want code or markdown.  \n",
    "\n",
    "You can also press \"esc\" then press \"a\" for above or \"b\" for below  \n",
    "After that, you can press \"m\" is you want markdown as code is original box"
   ]
  },
  {
   "cell_type": "markdown",
   "id": "693aba2d",
   "metadata": {},
   "source": [
    "# Python Practice"
   ]
  },
  {
   "cell_type": "code",
   "execution_count": 1,
   "id": "0c74db8b",
   "metadata": {},
   "outputs": [
    {
     "data": {
      "text/plain": [
       "[20, [13, 5], 2012]"
      ]
     },
     "execution_count": 1,
     "metadata": {},
     "output_type": "execute_result"
    }
   ],
   "source": [
    "#Lists can be stored in lists and can hold different types\n",
    "\n",
    "x=[] #or you can do x=list() but MUST include list infront\n",
    "x.append(20)\n",
    "x.append([13, 5])\n",
    "y=2012\n",
    "x.append(y)\n",
    "x"
   ]
  },
  {
   "cell_type": "code",
   "execution_count": 2,
   "id": "dd76e4b3",
   "metadata": {},
   "outputs": [
    {
     "data": {
      "text/plain": [
       "[20, [13, 5], 2012, \"Too many Smith's for emails\"]"
      ]
     },
     "execution_count": 2,
     "metadata": {},
     "output_type": "execute_result"
    }
   ],
   "source": [
    "x.append(\"Too many Smith's for emails\") #putting a different type in list\n",
    "x"
   ]
  },
  {
   "cell_type": "code",
   "execution_count": 3,
   "id": "c1e84d5e",
   "metadata": {},
   "outputs": [
    {
     "data": {
      "text/plain": [
       "20"
      ]
     },
     "execution_count": 3,
     "metadata": {},
     "output_type": "execute_result"
    }
   ],
   "source": [
    "#note that indexing starts at 0\n",
    "x[0]"
   ]
  },
  {
   "cell_type": "code",
   "execution_count": 4,
   "id": "5dab8a44",
   "metadata": {},
   "outputs": [
    {
     "name": "stdout",
     "output_type": "stream",
     "text": [
      "[20, [13, 5], 2012, \"Too many Smith's for emails\"]\n",
      "Trying this out 20\n",
      "[20, 'replacing number with THIS', 2012, \"Too many Smith's for emails\"]\n"
     ]
    }
   ],
   "source": [
    "#Change values at different indexing\n",
    "\n",
    "print(x)\n",
    "print(\"Trying this out {}\".format(x[0])) #must include {} to show what is at the formatx[] location\n",
    "x[1] = \"replacing number with THIS\"\n",
    "print(x)"
   ]
  },
  {
   "cell_type": "markdown",
   "id": "ad674786",
   "metadata": {},
   "source": [
    "# PLEASE NOTE: DIFFERENCE BETWEEN ***TUPLE*** AND ***LIST*** CODE  \n",
    "\n",
    "The tuple code has **( )** while the list code has **[ ]**  \n",
    "They can also be written as the following:  \n",
    "x = tuple( )  \n",
    "x = list[ ]"
   ]
  },
  {
   "cell_type": "code",
   "execution_count": 5,
   "id": "3fdc2efa",
   "metadata": {},
   "outputs": [
    {
     "data": {
      "text/plain": [
       "(9, 4)"
      ]
     },
     "execution_count": 5,
     "metadata": {},
     "output_type": "execute_result"
    }
   ],
   "source": [
    "y=(9,4)\n",
    "y"
   ]
  },
  {
   "cell_type": "code",
   "execution_count": 6,
   "id": "af417065",
   "metadata": {},
   "outputs": [
    {
     "ename": "AttributeError",
     "evalue": "'tuple' object has no attribute 'append'",
     "output_type": "error",
     "traceback": [
      "\u001b[0;31m---------------------------------------------------------------------------\u001b[0m",
      "\u001b[0;31mAttributeError\u001b[0m                            Traceback (most recent call last)",
      "\u001b[0;32m<ipython-input-6-a240a307a3c9>\u001b[0m in \u001b[0;36m<module>\u001b[0;34m\u001b[0m\n\u001b[1;32m      1\u001b[0m \u001b[0;31m#Cannot add to the tuple created\u001b[0m\u001b[0;34m\u001b[0m\u001b[0;34m\u001b[0m\u001b[0;34m\u001b[0m\u001b[0m\n\u001b[0;32m----> 2\u001b[0;31m \u001b[0my\u001b[0m\u001b[0;34m.\u001b[0m\u001b[0mappend\u001b[0m\u001b[0;34m(\u001b[0m\u001b[0;36m3\u001b[0m\u001b[0;34m)\u001b[0m\u001b[0;34m\u001b[0m\u001b[0;34m\u001b[0m\u001b[0m\n\u001b[0m",
      "\u001b[0;31mAttributeError\u001b[0m: 'tuple' object has no attribute 'append'"
     ]
    }
   ],
   "source": [
    "#Cannot add to the tuple created\n",
    "y.append(3)"
   ]
  },
  {
   "cell_type": "markdown",
   "id": "63c49329",
   "metadata": {},
   "source": [
    "## Use of Dictionary\n",
    "\n",
    "These are created as keys. Make sure they are unique because if they are not then one key could overwrite the value of what it was originally"
   ]
  },
  {
   "cell_type": "code",
   "execution_count": null,
   "id": "61442a79",
   "metadata": {},
   "outputs": [],
   "source": [
    "#creating a dictionary\n",
    "d = dict() \n",
    "#or\n",
    "d = {}    #looks like you can't use dict[]? NOTICE NO dict IN THIS ONE\n",
    "\n",
    "\n",
    "#create assignments\n",
    "d = {1:\"a\",2:\"b\",3:\"c\",4:\"d\"}\n",
    "d"
   ]
  },
  {
   "cell_type": "markdown",
   "id": "92db3f8d",
   "metadata": {},
   "source": [
    "You can make dictionaires within dictionaries"
   ]
  },
  {
   "cell_type": "code",
   "execution_count": null,
   "id": "f0f1a716",
   "metadata": {},
   "outputs": [],
   "source": [
    "d={\"English\":{1:\"one\", 2:\"two\", 3:\"three\"}, \"Spanish\":{1:\"uno\", 2:\"dos\", 3:\"tres\"}}\n",
    "d"
   ]
  },
  {
   "cell_type": "code",
   "execution_count": null,
   "id": "34b94658",
   "metadata": {},
   "outputs": [],
   "source": [
    "d[\"English\"]"
   ]
  },
  {
   "cell_type": "code",
   "execution_count": null,
   "id": "1d9127d1",
   "metadata": {},
   "outputs": [],
   "source": [
    "d[\"English\"][3]"
   ]
  },
  {
   "cell_type": "markdown",
   "id": "3899c884",
   "metadata": {},
   "source": [
    "# Practice *Loops*"
   ]
  },
  {
   "cell_type": "markdown",
   "id": "d7a684ca",
   "metadata": {},
   "source": [
    "A few things to note here in the **IF LOOPS**  \n",
    "\n",
    "* use == to indicate if something is equal or != if not equal\n",
    "* use the colon: after each if/else statement\n",
    "* Python is indent sensitive so you do not need to use parantheses to enclose the statements, only indents"
   ]
  },
  {
   "cell_type": "code",
   "execution_count": null,
   "id": "cfa36e80",
   "metadata": {},
   "outputs": [],
   "source": [
    "x = 7\n",
    "if x == 0:\n",
    "    print(\"x is 0\")\n",
    "else:\n",
    "    print(\"x is not 0\")"
   ]
  },
  {
   "cell_type": "code",
   "execution_count": null,
   "id": "fd6264ff",
   "metadata": {},
   "outputs": [],
   "source": [
    "#Can also use boolean statements too\n",
    "statement = True\n",
    "if statement:\n",
    "    print(\"It is TRUE\")\n",
    "else:\n",
    "    print(\"It is FALSE\")"
   ]
  },
  {
   "cell_type": "code",
   "execution_count": null,
   "id": "5007fdc8",
   "metadata": {},
   "outputs": [],
   "source": [
    "#Cane also negate statements with IF NOT\n",
    "\n",
    "x=7\n",
    "if not x ==0:\n",
    "    print(\"x is not 0\")\n",
    "else:\n",
    "    print(\"X is 0\")\n",
    "    \n",
    "\n",
    "statement = False\n",
    "if not statement:\n",
    "    print(\"Statement is False\")\n",
    "else:\n",
    "    print(\"Statement is true\")"
   ]
  },
  {
   "cell_type": "markdown",
   "id": "b5dc6e13",
   "metadata": {},
   "source": [
    "We will now look at **FOR LOOPS**  \n",
    "\n",
    "Things to note:  \n",
    "* They can loop over anything, including lists\n",
    "* They can also loop over dictionaries\n",
    "* They are also indent sensitive"
   ]
  },
  {
   "cell_type": "code",
   "execution_count": null,
   "id": "70438c2b",
   "metadata": {
    "scrolled": true
   },
   "outputs": [],
   "source": [
    "count = 0\n",
    "child = [\"Jace\", \"JJ\", \"Avery\", \"Harper\", \"Kendall\", \"Flynn\", \"Lincoln\"]\n",
    "for name in child:     #for each iteration of the loop, \"name\" becomes a name in the list\n",
    "    print(name)\n",
    "    count = count +1\n",
    "print(\"Count = \",count)"
   ]
  },
  {
   "cell_type": "code",
   "execution_count": null,
   "id": "6f3adf52",
   "metadata": {},
   "outputs": [],
   "source": [
    "#Creating a range - don't forget you want to do one past the value you want when making a range\n",
    "for i in range(6):\n",
    "    print(i)"
   ]
  },
  {
   "cell_type": "code",
   "execution_count": null,
   "id": "ece6f4d3",
   "metadata": {},
   "outputs": [],
   "source": [
    "child"
   ]
  },
  {
   "cell_type": "code",
   "execution_count": null,
   "id": "5dc22600",
   "metadata": {
    "scrolled": true
   },
   "outputs": [],
   "source": [
    "d"
   ]
  },
  {
   "cell_type": "code",
   "execution_count": null,
   "id": "10bac318",
   "metadata": {},
   "outputs": [],
   "source": [
    "for language in d:\n",
    "        print(language)"
   ]
  },
  {
   "cell_type": "code",
   "execution_count": null,
   "id": "44d7c7ca",
   "metadata": {},
   "outputs": [],
   "source": [
    "for language in d:\n",
    "    print(\"{} is the language.\".format(language)) ##the brackets are the placeholder for where the variable language goes"
   ]
  },
  {
   "cell_type": "markdown",
   "id": "cc4a2309",
   "metadata": {},
   "source": [
    "Loop within a loop - NESTED `STRUGGLED WITH THIS`"
   ]
  },
  {
   "cell_type": "code",
   "execution_count": null,
   "id": "d234c545",
   "metadata": {},
   "outputs": [],
   "source": [
    "for language in d:\n",
    "    print(\"{} is the Language\".format(language))\n",
    "    for key in d[language]:\n",
    "        translation = d[language][key]\n",
    "        print(\"{} is {}\".format(key,translation))"
   ]
  },
  {
   "cell_type": "code",
   "execution_count": null,
   "id": "64445599",
   "metadata": {},
   "outputs": [],
   "source": [
    "#STRUGGLED WITH THIS!!!!\n",
    "for language in d:\n",
    "    print(\"{} is the Language\".format(language))\n",
    "    for key in d[language]:\n",
    "        translation = d[language][key]\n",
    "        print(\"{} is {}\".format(key,translation))"
   ]
  },
  {
   "cell_type": "markdown",
   "id": "882aef51",
   "metadata": {},
   "source": [
    "### While Loops\n",
    "\n",
    "These are used less often."
   ]
  },
  {
   "cell_type": "code",
   "execution_count": null,
   "id": "cc4c2ed2",
   "metadata": {},
   "outputs": [],
   "source": [
    "j = 1\n",
    "while j < 10:\n",
    "    print(j)\n",
    "    j +=1 #can also be written as j = j + 1"
   ]
  },
  {
   "cell_type": "markdown",
   "id": "f9e4d3c4",
   "metadata": {},
   "source": [
    "# Most Common Package: Numpy\n",
    "\n",
    "Allows us to do more things with lists  \n",
    "Usually abreviated as `np`"
   ]
  },
  {
   "cell_type": "code",
   "execution_count": null,
   "id": "71392bf2",
   "metadata": {},
   "outputs": [],
   "source": [
    "#to import\n",
    "import numpy as np"
   ]
  },
  {
   "cell_type": "markdown",
   "id": "67340c75",
   "metadata": {},
   "source": [
    "To make a numpy array, we use np and specify the array function"
   ]
  },
  {
   "cell_type": "code",
   "execution_count": null,
   "id": "f4fa312c",
   "metadata": {},
   "outputs": [],
   "source": [
    "array = [0,1,2,3,4,5]\n",
    "np_array = np.array(array) #turning our array into a numpy one. Then assigning it a variable\n",
    "np_array"
   ]
  },
  {
   "cell_type": "markdown",
   "id": "dd6e3737",
   "metadata": {},
   "source": [
    "Now you can see the word \"array\" around the list which means we can do many more things with it"
   ]
  },
  {
   "cell_type": "markdown",
   "id": "0a63f902",
   "metadata": {},
   "source": [
    "**Example 1**: You cannot just \"+4\" to every element in a list but you can do so in an array!\n",
    "\n",
    ">Not allowed: x_list +4  \n",
    ">ALLOWED: x_array + 4"
   ]
  },
  {
   "cell_type": "code",
   "execution_count": null,
   "id": "e1e34fe5",
   "metadata": {},
   "outputs": [],
   "source": [
    "np_array + 4 #note: Do not print np_array after as it will show just what that is [0,1,2,3,4]"
   ]
  },
  {
   "cell_type": "code",
   "execution_count": null,
   "id": "572c2c24",
   "metadata": {},
   "outputs": [],
   "source": [
    "np_array ** 2"
   ]
  },
  {
   "cell_type": "markdown",
   "id": "ac3008f0",
   "metadata": {},
   "source": [
    "We can also add, multiply, divide arrays"
   ]
  },
  {
   "cell_type": "code",
   "execution_count": null,
   "id": "398d4672",
   "metadata": {},
   "outputs": [],
   "source": [
    "y_array = np.array([2,4,6,8,10,12])\n",
    "\n",
    "y_array * np_array"
   ]
  },
  {
   "cell_type": "markdown",
   "id": "33fbbebc",
   "metadata": {},
   "source": [
    "## IMPORTANT THOUGHT:\n",
    "\n",
    "This is what makes Python fast. If you can vectorize you calculations rather than put them in \"for loops\" (requireing mulitple iterations), then that will make it run much faster"
   ]
  },
  {
   "cell_type": "markdown",
   "id": "749af9b9",
   "metadata": {},
   "source": [
    "You can cerate arrays of zeros"
   ]
  },
  {
   "cell_type": "code",
   "execution_count": null,
   "id": "0b75121d",
   "metadata": {},
   "outputs": [],
   "source": [
    "np.zeros(12)"
   ]
  },
  {
   "cell_type": "markdown",
   "id": "b86f0bd3",
   "metadata": {},
   "source": [
    "Or you can list numbers  \n",
    ">Example: np.arange(5,89,2) - creates a list from 5-87 (don't forget the last value is not included!) with step size of 2"
   ]
  },
  {
   "cell_type": "code",
   "execution_count": null,
   "id": "a28d1811",
   "metadata": {},
   "outputs": [],
   "source": [
    "np.arange(3,60, 3)"
   ]
  },
  {
   "cell_type": "markdown",
   "id": "aac17e2b",
   "metadata": {},
   "source": [
    "We can also make *MATRICES* - lists of lists or really, arrays of arrays - **NOTE THE DOUBLE SQUARES SINCE IT IS ARRAYS WITHIN AN ARRAY**"
   ]
  },
  {
   "cell_type": "code",
   "execution_count": null,
   "id": "6cbdca3a",
   "metadata": {},
   "outputs": [],
   "source": [
    "z = np.array([[3,6,9], [2,4,6], [1,7,14]])\n",
    "z"
   ]
  },
  {
   "cell_type": "markdown",
   "id": "93a1bc60",
   "metadata": {},
   "source": [
    "We can also transpose an array - AKA flipping it across it's diagonal --> see notes on this on paper for what this looks like"
   ]
  },
  {
   "cell_type": "code",
   "execution_count": null,
   "id": "0fedacae",
   "metadata": {},
   "outputs": [],
   "source": [
    "z.T"
   ]
  },
  {
   "cell_type": "code",
   "execution_count": null,
   "id": "12f91c58",
   "metadata": {},
   "outputs": [],
   "source": [
    "#You can also index the row and column\n",
    "z[:,1]    #this means all rows and the first index (remember indexing starts at 0 s this technically gets us the second row)"
   ]
  },
  {
   "cell_type": "code",
   "execution_count": null,
   "id": "92f94ffc",
   "metadata": {},
   "outputs": [],
   "source": [
    "z[0,:]    #first row, all columns"
   ]
  },
  {
   "cell_type": "markdown",
   "id": "6283ed42",
   "metadata": {},
   "source": [
    "# ALL DONE - WAY TO GO! :)"
   ]
  }
 ],
 "metadata": {
  "kernelspec": {
   "display_name": "Python 3",
   "language": "python",
   "name": "python3"
  },
  "language_info": {
   "codemirror_mode": {
    "name": "ipython",
    "version": 3
   },
   "file_extension": ".py",
   "mimetype": "text/x-python",
   "name": "python",
   "nbconvert_exporter": "python",
   "pygments_lexer": "ipython3",
   "version": "3.8.8"
  }
 },
 "nbformat": 4,
 "nbformat_minor": 5
}
